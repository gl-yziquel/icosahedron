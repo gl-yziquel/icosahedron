{
 "cells": [
  {
   "cell_type": "markdown",
   "metadata": {},
   "source": [
    "# 『正多面体と素数』10.2.4の計算ノート"
   ]
  },
  {
   "cell_type": "code",
   "execution_count": 1,
   "metadata": {},
   "outputs": [
    {
     "data": {
      "text/plain": [
       "(x, y, X)"
      ]
     },
     "execution_count": 1,
     "metadata": {},
     "output_type": "execute_result"
    }
   ],
   "source": [
    "var('x y X')"
   ]
  },
  {
   "cell_type": "code",
   "execution_count": 2,
   "metadata": {},
   "outputs": [
    {
     "data": {
      "text/plain": [
       "-\\frac{22}{5} \\, \\sqrt{5} x^{10} y^{2} + \\frac{44}{5} \\, \\sqrt{5} x^{6} y^{6} - \\frac{22}{5} \\, \\sqrt{5} x^{2} y^{10} + x^{12} - 33 \\, x^{8} y^{4} - 33 \\, x^{4} y^{8} + y^{12}"
      ]
     },
     "execution_count": 2,
     "metadata": {},
     "output_type": "execute_result"
    }
   ],
   "source": [
    "F_12(x,y)=x^12+y^12-22/sqrt(5)*(x^10*y^2+x^2*y^10)-33*(x^8*y^4+x^4*y^8)+44/sqrt(5)*x^6*y^6\n",
    "latex(F_12(x,y).expand())"
   ]
  },
  {
   "cell_type": "markdown",
   "metadata": {},
   "source": [
    "$$\n",
    "F_{12}(x,y)=\n",
    "-\\frac{22}{5} \\, \\sqrt{5} x^{10} y^{2} + \\frac{44}{5} \\, \\sqrt{5} x^{6} y^{6} - \\frac{22}{5} \\, \\sqrt{5} x^{2} y^{10} + x^{12} - 33 \\, x^{8} y^{4} - 33 \\, x^{4} y^{8} + y^{12}\n",
    "$$"
   ]
  },
  {
   "cell_type": "code",
   "execution_count": 3,
   "metadata": {},
   "outputs": [
    {
     "data": {
      "text/plain": [
       "\\sqrt{5} X^{12} - 22 \\, X^{10} - 33 \\, \\sqrt{5} X^{8} + 44 \\, X^{6} - 33 \\, \\sqrt{5} X^{4} - 22 \\, X^{2} + \\sqrt{5}"
      ]
     },
     "execution_count": 3,
     "metadata": {},
     "output_type": "execute_result"
    }
   ],
   "source": [
    "latex((sqrt(5)*F_12(X,1)).expand())"
   ]
  },
  {
   "cell_type": "markdown",
   "metadata": {},
   "source": [
    "『正多面体と素数』p.136\n",
    "$$\n",
    "F_R^{\\{0\\}}(X) = \\sqrt{5} X^{12} - 22 \\, X^{10} - 33 \\, \\sqrt{5} X^{8} + 44 \\, X^{6} - 33 \\, \\sqrt{5} X^{4} - 22 \\, X^{2} + \\sqrt{5}\n",
    "$$"
   ]
  },
  {
   "cell_type": "code",
   "execution_count": 4,
   "metadata": {},
   "outputs": [],
   "source": [
    "#ヘッシアンの行列式を計算\n",
    "def det_hessian(f):\n",
    "    return det(f.hessian()).expand().simplify_full()"
   ]
  },
  {
   "cell_type": "code",
   "execution_count": 5,
   "metadata": {},
   "outputs": [],
   "source": [
    "F_20_0(x,y)=det_hessian(F_12(x,y))"
   ]
  },
  {
   "cell_type": "code",
   "execution_count": 6,
   "metadata": {},
   "outputs": [
    {
     "data": {
      "text/html": [
       "<html><script type=\"math/tex; mode=display\">\\newcommand{\\Bold}[1]{\\mathbf{#1}}-\\frac{5808}{5} \\, \\sqrt{5} x^{20} + \\frac{110352}{5} \\, \\sqrt{5} x^{16} y^{4} + \\frac{2869152}{5} \\, \\sqrt{5} x^{12} y^{8} + \\frac{2869152}{5} \\, \\sqrt{5} x^{8} y^{12} + \\frac{110352}{5} \\, \\sqrt{5} x^{4} y^{16} - \\frac{5808}{5} \\, \\sqrt{5} y^{20} - 73568 \\, x^{18} y^{2} - 882816 \\, x^{14} y^{6} + 1912768 \\, x^{10} y^{10} - 882816 \\, x^{6} y^{14} - 73568 \\, x^{2} y^{18}</script></html>"
      ],
      "text/latex": [
       "\\begin{math}\n",
       "\\newcommand{\\Bold}[1]{\\mathbf{#1}}-\\frac{5808}{5} \\, \\sqrt{5} x^{20} + \\frac{110352}{5} \\, \\sqrt{5} x^{16} y^{4} + \\frac{2869152}{5} \\, \\sqrt{5} x^{12} y^{8} + \\frac{2869152}{5} \\, \\sqrt{5} x^{8} y^{12} + \\frac{110352}{5} \\, \\sqrt{5} x^{4} y^{16} - \\frac{5808}{5} \\, \\sqrt{5} y^{20} - 73568 \\, x^{18} y^{2} - 882816 \\, x^{14} y^{6} + 1912768 \\, x^{10} y^{10} - 882816 \\, x^{6} y^{14} - 73568 \\, x^{2} y^{18}\n",
       "\\end{math}"
      ],
      "text/plain": [
       "-5808/5*sqrt(5)*x^20 + 110352/5*sqrt(5)*x^16*y^4 + 2869152/5*sqrt(5)*x^12*y^8 + 2869152/5*sqrt(5)*x^8*y^12 + 110352/5*sqrt(5)*x^4*y^16 - 5808/5*sqrt(5)*y^20 - 73568*x^18*y^2 - 882816*x^14*y^6 + 1912768*x^10*y^10 - 882816*x^6*y^14 - 73568*x^2*y^18"
      ]
     },
     "metadata": {},
     "output_type": "display_data"
    }
   ],
   "source": [
    "show(F_20_0(x,y))"
   ]
  },
  {
   "cell_type": "code",
   "execution_count": 7,
   "metadata": {},
   "outputs": [
    {
     "data": {
      "text/plain": [
       "\\frac{38}{3} \\, \\sqrt{5} x^{18} y^{2} + 152 \\, \\sqrt{5} x^{14} y^{6} - \\frac{988}{3} \\, \\sqrt{5} x^{10} y^{10} + 152 \\, \\sqrt{5} x^{6} y^{14} + \\frac{38}{3} \\, \\sqrt{5} x^{2} y^{18} + x^{20} - 19 \\, x^{16} y^{4} - 494 \\, x^{12} y^{8} - 494 \\, x^{8} y^{12} - 19 \\, x^{4} y^{16} + y^{20}"
      ]
     },
     "execution_count": 7,
     "metadata": {},
     "output_type": "execute_result"
    }
   ],
   "source": [
    "#最高次の係数を1へ\n",
    "F_20(x,y) = (F_20_0(x,y)/F_20_0(x,y).coefficient(x^20)).expand().simplify_full()\n",
    "latex(F_20(x,y))"
   ]
  },
  {
   "cell_type": "markdown",
   "metadata": {},
   "source": [
    "$$\n",
    "F_{20}(x,y)=\\frac{38}{3} \\, \\sqrt{5} x^{18} y^{2} + 152 \\, \\sqrt{5} x^{14} y^{6} - \\frac{988}{3} \\, \\sqrt{5} x^{10} y^{10} + 152 \\, \\sqrt{5} x^{6} y^{14} + \\frac{38}{3} \\, \\sqrt{5} x^{2} y^{18} + x^{20} - 19 \\, x^{16} y^{4} - 494 \\, x^{12} y^{8} - 494 \\, x^{8} y^{12} - 19 \\, x^{4} y^{16} + y^{20}\n",
    "$$"
   ]
  },
  {
   "cell_type": "code",
   "execution_count": 8,
   "metadata": {},
   "outputs": [
    {
     "data": {
      "text/plain": [
       "3 \\, X^{20} + 38 \\, \\sqrt{5} X^{18} - 57 \\, X^{16} + 456 \\, \\sqrt{5} X^{14} - 1482 \\, X^{12} - 988 \\, \\sqrt{5} X^{10} - 1482 \\, X^{8} + 456 \\, \\sqrt{5} X^{6} - 57 \\, X^{4} + 38 \\, \\sqrt{5} X^{2} + 3"
      ]
     },
     "execution_count": 8,
     "metadata": {},
     "output_type": "execute_result"
    }
   ],
   "source": [
    "latex(3*F_20(X,1))"
   ]
  },
  {
   "cell_type": "markdown",
   "metadata": {},
   "source": [
    "『正多面体と素数』p.137\n",
    "\n",
    "$$\n",
    "H(X,1)=F_R^{\\{2\\}}(X)=3 \\, X^{20} + 38 \\, \\sqrt{5} X^{18} - 57 \\, X^{16} + 456 \\, \\sqrt{5} X^{14} - 1482 \\, X^{12} - 988 \\, \\sqrt{5} X^{10} - 1482 \\, X^{8} + 456 \\, \\sqrt{5} X^{6} - 57 \\, X^{4} + 38 \\, \\sqrt{5} X^{2} + 3\n",
    "$$\n"
   ]
  },
  {
   "cell_type": "code",
   "execution_count": 9,
   "metadata": {},
   "outputs": [],
   "source": [
    "#二つの関数からヤコビアンを計算\n",
    "def det_jacobian(f,g):\n",
    "    return det(jacobian([f,g],[x,y])).expand().simplify_full()"
   ]
  },
  {
   "cell_type": "code",
   "execution_count": 10,
   "metadata": {},
   "outputs": [],
   "source": [
    "F_30_0(x,y)=det_jacobian(F_12(x,y), F_20(x,y))"
   ]
  },
  {
   "cell_type": "code",
   "execution_count": 11,
   "metadata": {},
   "outputs": [
    {
     "data": {
      "text/html": [
       "<html><script type=\"math/tex; mode=display\">\\newcommand{\\Bold}[1]{\\mathbf{#1}}480 \\, \\sqrt{5} x^{29} y + \\frac{169824}{5} \\, \\sqrt{5} x^{25} y^{5} + 192096 \\, \\sqrt{5} x^{21} y^{9} + 1216608 \\, \\sqrt{5} x^{17} y^{13} - 1216608 \\, \\sqrt{5} x^{13} y^{17} - 192096 \\, \\sqrt{5} x^{9} y^{21} - \\frac{169824}{5} \\, \\sqrt{5} x^{5} y^{25} - 480 \\, \\sqrt{5} x y^{29} + \\frac{18560}{3} \\, x^{27} y^{3} - 222720 \\, x^{23} y^{7} + 426880 \\, x^{19} y^{11} - 426880 \\, x^{11} y^{19} + 222720 \\, x^{7} y^{23} - \\frac{18560}{3} \\, x^{3} y^{27}</script></html>"
      ],
      "text/latex": [
       "\\begin{math}\n",
       "\\newcommand{\\Bold}[1]{\\mathbf{#1}}480 \\, \\sqrt{5} x^{29} y + \\frac{169824}{5} \\, \\sqrt{5} x^{25} y^{5} + 192096 \\, \\sqrt{5} x^{21} y^{9} + 1216608 \\, \\sqrt{5} x^{17} y^{13} - 1216608 \\, \\sqrt{5} x^{13} y^{17} - 192096 \\, \\sqrt{5} x^{9} y^{21} - \\frac{169824}{5} \\, \\sqrt{5} x^{5} y^{25} - 480 \\, \\sqrt{5} x y^{29} + \\frac{18560}{3} \\, x^{27} y^{3} - 222720 \\, x^{23} y^{7} + 426880 \\, x^{19} y^{11} - 426880 \\, x^{11} y^{19} + 222720 \\, x^{7} y^{23} - \\frac{18560}{3} \\, x^{3} y^{27}\n",
       "\\end{math}"
      ],
      "text/plain": [
       "480*sqrt(5)*x^29*y + 169824/5*sqrt(5)*x^25*y^5 + 192096*sqrt(5)*x^21*y^9 + 1216608*sqrt(5)*x^17*y^13 - 1216608*sqrt(5)*x^13*y^17 - 192096*sqrt(5)*x^9*y^21 - 169824/5*sqrt(5)*x^5*y^25 - 480*sqrt(5)*x*y^29 + 18560/3*x^27*y^3 - 222720*x^23*y^7 + 426880*x^19*y^11 - 426880*x^11*y^19 + 222720*x^7*y^23 - 18560/3*x^3*y^27"
      ]
     },
     "metadata": {},
     "output_type": "display_data"
    }
   ],
   "source": [
    "show(F_30_0(x,y))"
   ]
  },
  {
   "cell_type": "code",
   "execution_count": 12,
   "metadata": {},
   "outputs": [
    {
     "data": {
      "text/plain": [
       "\\frac{116}{45} \\, \\sqrt{5} x^{27} y^{3} - \\frac{464}{5} \\, \\sqrt{5} x^{23} y^{7} + \\frac{2668}{15} \\, \\sqrt{5} x^{19} y^{11} - \\frac{2668}{15} \\, \\sqrt{5} x^{11} y^{19} + \\frac{464}{5} \\, \\sqrt{5} x^{7} y^{23} - \\frac{116}{45} \\, \\sqrt{5} x^{3} y^{27} + x^{29} y + \\frac{1769}{25} \\, x^{25} y^{5} + \\frac{2001}{5} \\, x^{21} y^{9} + \\frac{12673}{5} \\, x^{17} y^{13} - \\frac{12673}{5} \\, x^{13} y^{17} - \\frac{2001}{5} \\, x^{9} y^{21} - \\frac{1769}{25} \\, x^{5} y^{25} - x y^{29}"
      ]
     },
     "execution_count": 12,
     "metadata": {},
     "output_type": "execute_result"
    }
   ],
   "source": [
    "#最高次の係数を1へ\n",
    "F_30(x,y) = (F_30_0(x,y)/F_30_0(x,y).coefficient(x^29*y)).expand().simplify_full()\n",
    "latex(F_30(x,y))"
   ]
  },
  {
   "cell_type": "markdown",
   "metadata": {},
   "source": [
    "$$\n",
    "F_{30}(x,y)=\\frac{116}{45} \\, \\sqrt{5} x^{27} y^{3} - \\frac{464}{5} \\, \\sqrt{5} x^{23} y^{7} + \\frac{2668}{15} \\, \\sqrt{5} x^{19} y^{11} - \\frac{2668}{15} \\, \\sqrt{5} x^{11} y^{19} + \\frac{464}{5} \\, \\sqrt{5} x^{7} y^{23} - \\frac{116}{45} \\, \\sqrt{5} x^{3} y^{27} + x^{29} y + \\frac{1769}{25} \\, x^{25} y^{5} + \\frac{2001}{5} \\, x^{21} y^{9} + \\frac{12673}{5} \\, x^{17} y^{13} - \\frac{12673}{5} \\, x^{13} y^{17} - \\frac{2001}{5} \\, x^{9} y^{21} - \\frac{1769}{25} \\, x^{5} y^{25} - x y^{29}\n",
    "$$"
   ]
  },
  {
   "cell_type": "code",
   "execution_count": 13,
   "metadata": {},
   "outputs": [
    {
     "data": {
      "text/plain": [
       "225 \\, X^{29} + 580 \\, \\sqrt{5} X^{27} + 15921 \\, X^{25} - 20880 \\, \\sqrt{5} X^{23} + 90045 \\, X^{21} + 40020 \\, \\sqrt{5} X^{19} + 570285 \\, X^{17} - 570285 \\, X^{13} - 40020 \\, \\sqrt{5} X^{11} - 90045 \\, X^{9} + 20880 \\, \\sqrt{5} X^{7} - 15921 \\, X^{5} - 580 \\, \\sqrt{5} X^{3} - 225 \\, X"
      ]
     },
     "execution_count": 13,
     "metadata": {},
     "output_type": "execute_result"
    }
   ],
   "source": [
    "latex(225*F_30(X,1))"
   ]
  },
  {
   "cell_type": "markdown",
   "metadata": {},
   "source": [
    "『正多面体と素数』p.138\n",
    "\n",
    "$$\n",
    "T(X,1)=F_R^{\\{1\\}}(X)=225 \\, X^{29} + 580 \\, \\sqrt{5} X^{27} + 15921 \\, X^{25} - 20880 \\, \\sqrt{5} X^{23} + 90045 \\, X^{21} + 40020 \\, \\sqrt{5} X^{19} + 570285 \\, X^{17} - 570285 \\, X^{13} - 40020 \\, \\sqrt{5} X^{11} - 90045 \\, X^{9} + 20880 \\, \\sqrt{5} X^{7} - 15921 \\, X^{5} - 580 \\, \\sqrt{5} X^{3} - 225 \\, X\n",
    "$$"
   ]
  },
  {
   "cell_type": "code",
   "execution_count": 14,
   "metadata": {},
   "outputs": [
    {
     "data": {
      "text/plain": [
       "[-60*sqrt(5), 0]"
      ]
     },
     "execution_count": 14,
     "metadata": {},
     "output_type": "execute_result"
    }
   ],
   "source": [
    "#多項式として除算\n",
    "(F_12(X,1)^5-F_20(X,1)^3).maxima_methods().divide((F_30(X,1)^2))"
   ]
  },
  {
   "cell_type": "markdown",
   "metadata": {},
   "source": [
    "すなわち、\n",
    "$$\n",
    "F_{12}^5 - F_{20}^3+60\\sqrt{5}\\,F_{30}^2=0\n",
    "$$"
   ]
  },
  {
   "cell_type": "code",
   "execution_count": 15,
   "metadata": {},
   "outputs": [],
   "source": [
    "#有理数の分子と分母を素因数分解してlatex形式で返す関数\n",
    "def get_factorized_rational(numerator, denominator):\n",
    "    factors_a = list(factor(numerator))\n",
    "    factors_b = list(factor(denominator))\n",
    "    num = \"\"\n",
    "    if(len(factors_a)==0):\n",
    "        num = \"1\"\n",
    "    else:\n",
    "        for i, t in enumerate(factors_a):\n",
    "            p, k = t\n",
    "            if(k==1):\n",
    "                num += f\"{p}\"\n",
    "            else:\n",
    "                num += f\"{p}^{{{k}}}\"\n",
    "            if(i<len(factors_a)-1):\n",
    "                num += r\" \\!\\cdot\\! \"\n",
    "                \n",
    "    den = \"\"\n",
    "    if(len(factors_b)==0):\n",
    "        den = \"1\"\n",
    "    else:\n",
    "        for i, t in enumerate(factors_b):\n",
    "            p, k = t\n",
    "            if(k==1):\n",
    "                den += f\"{p}\"\n",
    "            else:\n",
    "                den += f\"{p}^{{{k}}}\"\n",
    "            if(i<len(factors_b)-1):\n",
    "                den += r\" \\!\\cdot\\! \"\n",
    "    return \"\\\\frac{{{0}}}{{{1}}}\".format(num, den)"
   ]
  },
  {
   "cell_type": "code",
   "execution_count": 16,
   "metadata": {},
   "outputs": [
    {
     "name": "stdout",
     "output_type": "stream",
     "text": [
      "\\frac{2^{4} \\!\\cdot\\! 7}{3 \\!\\cdot\\! 11}\n"
     ]
    }
   ],
   "source": [
    "print(get_factorized_rational(112, 33))"
   ]
  },
  {
   "cell_type": "markdown",
   "metadata": {},
   "source": [
    "$$\n",
    "\\frac{112}{33} = \\frac{2^{4} \\!\\cdot\\! 7}{3 \\!\\cdot\\! 11}\n",
    "$$"
   ]
  },
  {
   "cell_type": "code",
   "execution_count": 17,
   "metadata": {},
   "outputs": [],
   "source": [
    "# 整数の平方根をいい感じにlatex形式で返す関数\n",
    "def format_factors(squared_factors):\n",
    "    if(len(squared_factors)==0):\n",
    "        return '1'\n",
    "    integer_parts = []\n",
    "    sqrt_parts = []\n",
    "    for i, t in enumerate(squared_factors):\n",
    "        p,k = t\n",
    "        if(k%2==0):\n",
    "            if(k//2==1):\n",
    "                integer_parts.append(f'{p}')\n",
    "            else:\n",
    "                integer_parts.append(f'{p}^{k//2}')\n",
    "        else:\n",
    "            if(k//2==1):\n",
    "                integer_parts.append(f'{p}')\n",
    "            elif(k//2>1):\n",
    "                integer_parts.append(f'{p}^{k//2}')\n",
    "            sqrt_parts.append(f'{p}')\n",
    "    integer_part = ' \\\\!\\\\cdot\\\\! '.join(integer_parts)\n",
    "    if(len(sqrt_parts)==0):\n",
    "        sqrt_part = ''\n",
    "    else:\n",
    "        sqrt_part_inner = ' \\\\!\\\\cdot\\\\! '.join(sqrt_parts)\n",
    "        sqrt_part = f'\\\\sqrt{{{sqrt_part_inner}}}'\n",
    "    return f'{integer_part}{sqrt_part}'"
   ]
  },
  {
   "cell_type": "code",
   "execution_count": 18,
   "metadata": {},
   "outputs": [
    {
     "name": "stdout",
     "output_type": "stream",
     "text": [
      "2^3 \\!\\cdot\\! 3\\sqrt{5 \\!\\cdot\\! 7 \\!\\cdot\\! 2521 \\!\\cdot\\! 12705841}\n"
     ]
    }
   ],
   "source": [
    "print(format_factors(list(factor(71^8-1))))"
   ]
  },
  {
   "cell_type": "markdown",
   "metadata": {},
   "source": [
    "$$\n",
    "\\sqrt{71^8-1} = 2^3 \\!\\cdot\\! 3\\sqrt{5 \\!\\cdot\\! 7 \\!\\cdot\\! 2521 \\!\\cdot\\! 12705841}\n",
    "$$"
   ]
  },
  {
   "cell_type": "code",
   "execution_count": 19,
   "metadata": {},
   "outputs": [],
   "source": [
    "#x,yの同次（deg次）多項式fをいい感じに表示する\n",
    "def show_polynomial(f, deg):\n",
    "    if(deg%4==0):\n",
    "        sgn1=\"+\"\n",
    "    else:\n",
    "        sgn1=\"-\"\n",
    "    for i in reversed(range(deg+1)):\n",
    "        j = deg-i\n",
    "        if(i<j):break\n",
    "        c=f.coefficient(x^i*y^j)\n",
    "        p = numerator(c*c).pyobject()\n",
    "        q = denominator(c*c).pyobject()\n",
    "        if(p>0):\n",
    "            if sign(c)>0:\n",
    "                sgn2=\"+\"\n",
    "            else:\n",
    "                sgn2=\"-\"\n",
    "            a = format_factors(p.factor())\n",
    "            b = format_factors(q.factor())\n",
    "            print( sgn2 + (f\"{a}\" if b==\"1\" else \"\\\\frac{{{0}}}{{{1}}} \".format(a,b)) \\\n",
    "                    + (\"\\\\left(x^{{{0}}}y^{{{1}}} {2} x^{{{1}}}y^{{{0}}}\\\\right)\".format(i,j,sgn1) if i != j\n",
    "                          else \"x^{{{0}}}y^{{{1}}}\".format(i, deg-i)))"
   ]
  },
  {
   "cell_type": "code",
   "execution_count": 20,
   "metadata": {},
   "outputs": [
    {
     "name": "stdout",
     "output_type": "stream",
     "text": [
      "+1\\left(x^{12}y^{0} + x^{0}y^{12}\\right)\n",
      "-\\frac{2 \\!\\cdot\\! 11}{\\sqrt{5}} \\left(x^{10}y^{2} + x^{2}y^{10}\\right)\n",
      "-3 \\!\\cdot\\! 11\\left(x^{8}y^{4} + x^{4}y^{8}\\right)\n",
      "+\\frac{2^2 \\!\\cdot\\! 11}{\\sqrt{5}} x^{6}y^{6}\n"
     ]
    }
   ],
   "source": [
    "show_polynomial(F_12(x,y), 12)"
   ]
  },
  {
   "cell_type": "markdown",
   "metadata": {},
   "source": [
    "$$\n",
    "F_{12}(x,y)=+1\\left(x^{12}y^{0} + x^{0}y^{12}\\right)\n",
    "-\\frac{2 \\cdot 11}{\\sqrt{5}} \\left(x^{10}y^{2} + x^{2}y^{10}\\right)\n",
    "-3 \\cdot 11\\left(x^{8}y^{4} + x^{4}y^{8}\\right)\n",
    "+\\frac{2^2 \\cdot 11}{\\sqrt{5}} x^{6}y^{6}\n",
    "$$"
   ]
  },
  {
   "cell_type": "code",
   "execution_count": 21,
   "metadata": {},
   "outputs": [],
   "source": [
    "# 同時多項式の係数の正規化\n",
    "def get_normalized_coefficients(f, deg):\n",
    "    v = []\n",
    "    for i in reversed(range(deg+1)):\n",
    "        j = deg-i\n",
    "        c = f.coefficient(x^i*y^j) * sqrt(factorial(i)*factorial(j))\n",
    "        v.append(c)\n",
    "    return vector(v).normalized()"
   ]
  },
  {
   "cell_type": "code",
   "execution_count": 22,
   "metadata": {},
   "outputs": [
    {
     "data": {
      "text/html": [
       "<html><script type=\"math/tex; mode=display\">\\newcommand{\\Bold}[1]{\\mathbf{#1}}\\left(\\frac{1}{352} \\, \\sqrt{231} \\sqrt{55},\\,0,\\,-\\frac{1}{160} \\, \\sqrt{55} \\sqrt{14} \\sqrt{5},\\,0,\\,-\\frac{1}{160} \\, \\sqrt{105} \\sqrt{55},\\,0,\\,\\frac{1}{80} \\, \\sqrt{55} \\sqrt{5},\\,0,\\,-\\frac{1}{160} \\, \\sqrt{105} \\sqrt{55},\\,0,\\,-\\frac{1}{160} \\, \\sqrt{55} \\sqrt{14} \\sqrt{5},\\,0,\\,\\frac{1}{352} \\, \\sqrt{231} \\sqrt{55}\\right)</script></html>"
      ],
      "text/latex": [
       "\\begin{math}\n",
       "\\newcommand{\\Bold}[1]{\\mathbf{#1}}\\left(\\frac{1}{352} \\, \\sqrt{231} \\sqrt{55},\\,0,\\,-\\frac{1}{160} \\, \\sqrt{55} \\sqrt{14} \\sqrt{5},\\,0,\\,-\\frac{1}{160} \\, \\sqrt{105} \\sqrt{55},\\,0,\\,\\frac{1}{80} \\, \\sqrt{55} \\sqrt{5},\\,0,\\,-\\frac{1}{160} \\, \\sqrt{105} \\sqrt{55},\\,0,\\,-\\frac{1}{160} \\, \\sqrt{55} \\sqrt{14} \\sqrt{5},\\,0,\\,\\frac{1}{352} \\, \\sqrt{231} \\sqrt{55}\\right)\n",
       "\\end{math}"
      ],
      "text/plain": [
       "(1/352*sqrt(231)*sqrt(55), 0, -1/160*sqrt(55)*sqrt(14)*sqrt(5), 0, -1/160*sqrt(105)*sqrt(55), 0, 1/80*sqrt(55)*sqrt(5), 0, -1/160*sqrt(105)*sqrt(55), 0, -1/160*sqrt(55)*sqrt(14)*sqrt(5), 0, 1/352*sqrt(231)*sqrt(55))"
      ]
     },
     "metadata": {},
     "output_type": "display_data"
    }
   ],
   "source": [
    "v = get_normalized_coefficients(F_12(x,y), 12)\n",
    "show(v)"
   ]
  },
  {
   "cell_type": "code",
   "execution_count": 23,
   "metadata": {},
   "outputs": [],
   "source": [
    "# 正規化された係数の列を球面調和関数の重ね合わせとして表示\n",
    "def show_as_spherical_harmonics_superposition(v, deg):\n",
    "    out = \"\"\n",
    "    if(deg%4==0):\n",
    "        par=\"+\"\n",
    "    else:\n",
    "        par=\"-\"\n",
    "    for i in reversed(range(deg+1)):\n",
    "        j = deg-i\n",
    "        if(i<j):break\n",
    "        c = v[i]\n",
    "        if(c!=0):\n",
    "            sgn = \"+\" if sign(c)>0 else \"-\"\n",
    "            p = numerator(c*c).pyobject()\n",
    "            q = denominator(c*c).pyobject()\n",
    "            r = get_factorized_rational(p,q)\n",
    "            if(i==j):\n",
    "                out += sgn + \"\\\\sqrt{{{0}}}\".format(r) + \"Y^{{{0}}}_{{{1}}}\".format(deg/2, (i-j)/2)\n",
    "            else:\n",
    "                out += (sgn + \"\\\\sqrt{{{0}}}\".format(r)\n",
    "                      + \"\\\\left(Y^{{{0}}}_{{{1}}} {2} Y^{{{0}}}_{{{3}}}\\\\right)\".format(deg/2,(i-j)/2 , par, -(i-j)/2))\n",
    "            out += \"\\n\"\n",
    "    print(out)"
   ]
  },
  {
   "cell_type": "code",
   "execution_count": 24,
   "metadata": {},
   "outputs": [
    {
     "name": "stdout",
     "output_type": "stream",
     "text": [
      "+\\sqrt{\\frac{3 \\!\\cdot\\! 5 \\!\\cdot\\! 7}{2^{10}}}\\left(Y^{6}_{6} + Y^{6}_{-6}\\right)\n",
      "-\\sqrt{\\frac{7 \\!\\cdot\\! 11}{2^{9}}}\\left(Y^{6}_{4} + Y^{6}_{-4}\\right)\n",
      "-\\sqrt{\\frac{3 \\!\\cdot\\! 7 \\!\\cdot\\! 11}{2^{10}}}\\left(Y^{6}_{2} + Y^{6}_{-2}\\right)\n",
      "+\\sqrt{\\frac{11}{2^{8}}}Y^{6}_{0}\n",
      "\n"
     ]
    }
   ],
   "source": [
    "show_as_spherical_harmonics_superposition(v, 12)"
   ]
  },
  {
   "cell_type": "markdown",
   "metadata": {},
   "source": [
    "$$\n",
    "\\mathcal{F}_{12}(\\theta,\\varphi)\n",
    "=\n",
    "+\\sqrt{\\frac{3 \\!\\cdot\\! 5 \\!\\cdot\\! 7}{2^{10}}}\\left(Y^{6}_{6} + Y^{6}_{-6}\\right)\n",
    "-\\sqrt{\\frac{7 \\!\\cdot\\! 11}{2^{9}}}\\left(Y^{6}_{4} + Y^{6}_{-4}\\right)\n",
    "-\\sqrt{\\frac{3 \\!\\cdot\\! 7 \\!\\cdot\\! 11}{2^{10}}}\\left(Y^{6}_{2} + Y^{6}_{-2}\\right)\n",
    "+\\sqrt{\\frac{11}{2^{8}}}Y^{6}_{0}\n",
    "$$"
   ]
  },
  {
   "cell_type": "code",
   "execution_count": 56,
   "metadata": {},
   "outputs": [
    {
     "data": {
      "image/png": "[encoded data removed]",
      "text/plain": [
       "<Figure size 288x288 with 1 Axes>"
      ]
     },
     "metadata": {
      "needs_background": "light"
     },
     "output_type": "display_data"
    }
   ],
   "source": [
    "#https://scipython.com/book/chapter-8-scipy/examples/visualizing-the-spherical-harmonics/\n",
    "import matplotlib.pyplot as plt\n",
    "import matplotlib.animation as animation\n",
    "from matplotlib import cm, colors\n",
    "from mpl_toolkits.mplot3d import Axes3D\n",
    "import numpy as np\n",
    "from numpy.core.records import array\n",
    "from scipy.special import sph_harm\n",
    "\n",
    "def superpose(coefficients, theta, phi):\n",
    "    val = 0\n",
    "    for t in coefficients:\n",
    "        l,m,c = t\n",
    "        val += c*sph_harm(m,l,theta,phi)\n",
    "    return val\n",
    "\n",
    "fig = plt.figure(figsize=plt.figaspect(1.), facecolor='none')\n",
    "fig.subplots_adjust(left=0, right=1, bottom=0, top=1)\n",
    "\n",
    "ax = fig.add_subplot(111, projection='3d', facecolor='none')\n",
    "ax.set_axis_off()\n",
    "ax.set_box_aspect((1,1,1)) #https://sabopy.com/py/matplotlib-3d-50/\n",
    "\n",
    "fcolors = np.array([])\n",
    "#resolution=dict(phi=100, theta=100)\n",
    "\n",
    "def plot_spherical_harmonics(ax, coefficients, deg, elev=0.0, azim=0.0, is_first=True):\n",
    "    global fcolors\n",
    "    #global resolution\n",
    "    phi = np.linspace(0, np.pi, 360)\n",
    "    theta = np.linspace(0, 2*np.pi, 180)\n",
    "    phi, theta = np.meshgrid(phi, theta)\n",
    "\n",
    "    x = np.sin(phi) * np.cos(theta)\n",
    "    y = np.sin(phi) * np.sin(theta)\n",
    "    z = np.cos(phi)\n",
    "\n",
    "    if(is_first):\n",
    "        if(deg%4==0):\n",
    "            fcolors = superpose(coefficients, theta, phi).real\n",
    "        elif(deg%4==2):\n",
    "            fcolors = superpose(coefficients, theta, phi).imag\n",
    "        \n",
    "    fmax, fmin = fcolors.max(), fcolors.min()\n",
    "    #fcolors = (fcolors - fmin)/(fmax - fmin)\n",
    "    norm = colors.Normalize(vmin=fmin, vmax=fmax)\n",
    "\n",
    "    ax.view_init(elev=elev, azim=azim)\n",
    "    ax.plot_surface(x, y, z,  rstride=1, cstride=1, facecolors=plt.cm.jet(norm(fcolors)), shade=False)\n",
    "    plt.plot(1,1)\n",
    "\n",
    "interval = 150\n",
    "omega = 12\n",
    "frames = 15\n",
    "    \n",
    "def plot(i, deg, coefficients):\n",
    "    print(f\"{i+1}/{frames}...\")\n",
    "    plot_spherical_harmonics(ax, coefficients, deg, elev=30, azim=omega*i, is_first=True if i==0 else False)\n",
    "\n",
    "def animate(f, deg, file=\"out.gif\"):\n",
    "    v = get_normalized_coefficients(f, deg)\n",
    "    coefficients = []\n",
    "    for i, c in enumerate(v):\n",
    "        coefficients.append((deg//2, deg//2-i, c.n()))\n",
    "    ani = animation.FuncAnimation(fig, lambda i:plot(i,deg,coefficients), interval=interval, frames=frames)\n",
    "    #ani.repeat()\n",
    "    ani.save(file, writer=\"imagemagick\", savefig_kwargs=dict(facecolor=\"black\"))"
   ]
  },
  {
   "cell_type": "code",
   "execution_count": 26,
   "metadata": {},
   "outputs": [
    {
     "data": {
      "image/png": "[encoded data removed]",
      "text/plain": [
       "<Figure size 432x288 with 1 Axes>"
      ]
     },
     "metadata": {
      "needs_background": "light"
     },
     "output_type": "display_data"
    }
   ],
   "source": [
    "animate(F_12(x,y),12,file='rotating-icosahedron-deg-12.gif')"
   ]
  },
  {
   "cell_type": "code",
   "execution_count": 28,
   "metadata": {},
   "outputs": [
    {
     "data": {
      "image/png": "[encoded data removed]",
      "text/plain": [
       "<Figure size 432x288 with 1 Axes>"
      ]
     },
     "metadata": {
      "needs_background": "light"
     },
     "output_type": "display_data"
    }
   ],
   "source": [
    "animate(F_20(x,y),20,file='rotating-icosahedron-deg-20.gif')"
   ]
  },
  {
   "cell_type": "code",
   "execution_count": 41,
   "metadata": {},
   "outputs": [
    {
     "name": "stdout",
     "output_type": "stream",
     "text": [
      "1/15...\n",
      "1/15...\n",
      "2/15...\n",
      "3/15...\n",
      "4/15...\n",
      "5/15...\n",
      "6/15...\n",
      "7/15...\n",
      "8/15...\n",
      "9/15...\n",
      "10/15...\n",
      "11/15...\n",
      "12/15...\n",
      "13/15...\n",
      "14/15...\n",
      "15/15...\n"
     ]
    },
    {
     "data": {
      "image/png": "[encoded data removed]",
      "text/plain": [
       "<Figure size 432x288 with 1 Axes>"
      ]
     },
     "metadata": {
      "needs_background": "light"
     },
     "output_type": "display_data"
    }
   ],
   "source": [
    "animate(F_30(x,y),30,file='rotating-icosahedron-deg-30.gif')"
   ]
  },
  {
   "cell_type": "code",
   "execution_count": 52,
   "metadata": {},
   "outputs": [],
   "source": [
    "F_62(x,y) = (F_12(x,y)*F_20(x,y)*F_30(x,y)).expand()"
   ]
  },
  {
   "cell_type": "code",
   "execution_count": 57,
   "metadata": {},
   "outputs": [
    {
     "name": "stdout",
     "output_type": "stream",
     "text": [
      "1/15...\n",
      "1/15...\n",
      "2/15...\n",
      "3/15...\n",
      "4/15...\n",
      "5/15...\n",
      "6/15...\n",
      "7/15...\n",
      "8/15...\n",
      "9/15...\n",
      "10/15...\n",
      "11/15...\n",
      "12/15...\n",
      "13/15...\n",
      "14/15...\n",
      "15/15...\n"
     ]
    },
    {
     "data": {
      "image/png": "[encoded data removed]",
      "text/plain": [
       "<Figure size 432x288 with 1 Axes>"
      ]
     },
     "metadata": {
      "needs_background": "light"
     },
     "output_type": "display_data"
    }
   ],
   "source": [
    "animate(F_62(x,y),62,file='rotating-icosahedron-deg-62.gif')"
   ]
  },
  {
   "cell_type": "code",
   "execution_count": null,
   "metadata": {},
   "outputs": [],
   "source": []
  }
 ],
 "metadata": {
  "kernelspec": {
   "display_name": "SageMath 9.2",
   "language": "sage",
   "name": "sagemath"
  },
  "language_info": {
   "codemirror_mode": {
    "name": "ipython",
    "version": 3
   },
   "file_extension": ".py",
   "mimetype": "text/x-python",
   "name": "python",
   "nbconvert_exporter": "python",
   "pygments_lexer": "ipython3",
   "version": "3.7.7"
  }
 },
 "nbformat": 4,
 "nbformat_minor": 4
}
